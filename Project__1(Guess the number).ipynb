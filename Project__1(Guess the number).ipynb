{
 "cells": [
  {
   "cell_type": "code",
   "execution_count": null,
   "id": "6c1de28a",
   "metadata": {},
   "outputs": [],
   "source": [
    "actual_number = 22\n",
    "attempt = 0\n",
    "while True:\n",
    "    attempt +=1\n",
    "    guess = int(input(\"Guess the number between 1 to 50: \"))\n",
    "    if guess < actual_number:\n",
    "        print(\"your guess was low, please try wih high number\")\n",
    "    if  guess > actual_number:\n",
    "            print(\"Your guess was high, please try with low number\")\n",
    "    if guess==actual_number:\n",
    "        print(\"your guess was correct\")\n",
    "        break"
   ]
  },
  {
   "cell_type": "code",
   "execution_count": null,
   "id": "3e4d3a85",
   "metadata": {},
   "outputs": [],
   "source": []
  }
 ],
 "metadata": {
  "kernelspec": {
   "display_name": "Python 3",
   "language": "python",
   "name": "python3"
  }
 },
 "nbformat": 4,
 "nbformat_minor": 5
}
